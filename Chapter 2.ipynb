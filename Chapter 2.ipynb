{
 "cells": [
  {
   "cell_type": "markdown",
   "metadata": {},
   "source": [
    "# VARIABLE"
   ]
  },
  {
   "cell_type": "markdown",
   "metadata": {},
   "source": [
    "# Assignment Statement\n",
    "=\n",
    "used to assign value to a variable "
   ]
  },
  {
   "cell_type": "code",
   "execution_count": null,
   "metadata": {},
   "outputs": [],
   "source": [
    "a=5\n",
    "print(a)"
   ]
  },
  {
   "cell_type": "markdown",
   "metadata": {},
   "source": [
    "Variable can be both numeric and character items \n",
    "- Displaying multiple item with a print \n",
    "- Variable reassign \n"
   ]
  },
  {
   "cell_type": "code",
   "execution_count": null,
   "metadata": {},
   "outputs": [],
   "source": [
    "room=404\n",
    "print('I am in the room')\n",
    "print (room)\n",
    "\n",
    "## \n",
    "print('i am in room',room)\n",
    "\n",
    "### \n",
    "dollar=2.5\n",
    "print('I have', dollar,'in my account')\n",
    "dollar=99.95\n",
    "print('but now i have',dollar,'in my account ')\n",
    "\n",
    "### Charcater var\n",
    "x='let get it on'\n",
    "print(x)"
   ]
  },
  {
   "cell_type": "markdown",
   "metadata": {},
   "source": [
    "## Numeric Data Types and Literals\n",
    "symbols, spaces, or commas in numeric not applicable to numeric literals. \n",
    "- The type() is used to know the data type of a variable"
   ]
  },
  {
   "cell_type": "code",
   "execution_count": null,
   "metadata": {},
   "outputs": [],
   "source": [
    "dollar=5\n",
    "dollars=3.2\n",
    "character='this is string'\n",
    "print('this is a',type(dollar),'-','this is a',type (dollars),'-','this is a',type(character))"
   ]
  },
  {
   "cell_type": "markdown",
   "metadata": {},
   "source": [
    "## Reading Input from keyboard "
   ]
  },
  {
   "cell_type": "code",
   "execution_count": null,
   "metadata": {},
   "outputs": [],
   "source": [
    "firstName=input('what is your first name?')\n",
    "lastname=input('what is your last name?')\n",
    "print('Hello',firstName,lastname)"
   ]
  },
  {
   "cell_type": "markdown",
   "metadata": {},
   "source": [
    "#### Reading number with input "
   ]
  },
  {
   "cell_type": "code",
   "execution_count": null,
   "metadata": {},
   "outputs": [],
   "source": [
    "hours=int(input('how many hours do you work?'))\n",
    "pay_rate=float(input('how many hows do you work'))\n",
    "print('result in integer',hours,',','result in float',pay_rate)"
   ]
  },
  {
   "cell_type": "code",
   "execution_count": null,
   "metadata": {},
   "outputs": [],
   "source": [
    "name=input('what is your name?')\n",
    "age=int(input('how pld are you?'))\n",
    "Income=int(input('how much do you earn'))\n",
    "print(\"my name is \",name,',','I am ',age,'.','I earn $',Income)"
   ]
  },
  {
   "cell_type": "markdown",
   "metadata": {},
   "source": [
    "# PERFORMING CALCULATION"
   ]
  },
  {
   "cell_type": "markdown",
   "metadata": {},
   "source": [
    "First, operations that are enclosed in parentheses are performed first. Then, when two\n",
    "operators share an operand, the operator with the higher precedence is applied first. The\n",
    "precedence of the math operators, from highest to lowest, are:\n",
    "- Exponentiation: ** <br>\n",
    "- Multiplication, division, and remainder: * / // %<br>\n",
    "- Addition and subtraction: + − <br>\n",
    "Notice the multiplication (*), floating-point division (/), integer division (//), and remainder (%) operators have the same precedence. The addition (+) and subtraction (−) operators also have the same precedence. <br>\n",
    "When two operators with the same precedence share an operand, the operators execute from left to right.<br>\n",
    "**There is an exception to the left-to-right rule.  <br>\n",
    "When two ** operators share an operand, the operators execute right-to-left. For example, the expression `2**3**4`<br>\n",
    "is evaluated as `2**(3**4)`.<br>**\n",
    "\n",
    "|Symbol|Operation|\n",
    "|------|-------|\n",
    "|+|Addition|\n",
    "|-|Subtraction|\n",
    "|*|Multiply|\n",
    "|/|Division|\n",
    "|//|Interger division|\n",
    "|%|Remainder/Modullus|\n",
    "|**|Exponent|\n",
    "- Integer division Divides one number by another and gives the result as whole number (//) <br>\n",
    "       When the result is positive, it is truncated, which means that its fractional part is thrown away.<br>\n",
    "        When the result is negative, it is rounded away from zero to the nearest integer.\n",
    "- Remainder Divides one number by another and gives the remainder (%)\n",
    "- Exponent Raises a number to a power (**)"
   ]
  },
  {
   "cell_type": "code",
   "execution_count": null,
   "metadata": {},
   "outputs": [],
   "source": [
    "salary=int(input('how much is your salary for the month'))\n",
    "bonus=float(input('what percent of reflected in your mail'))\n",
    "print('my main salary',salary,'my bonus is',bonus)\n",
    "print('your total pay is ',salary+(salary*bonus))\n"
   ]
  },
  {
   "cell_type": "markdown",
   "metadata": {},
   "source": [
    "##### working with integer division"
   ]
  },
  {
   "cell_type": "code",
   "execution_count": null,
   "metadata": {},
   "outputs": [],
   "source": [
    "pos_result=5//2\n",
    "neg_result=-5//2\n",
    "print(pos_result,neg_result)"
   ]
  },
  {
   "cell_type": "markdown",
   "metadata": {},
   "source": [
    "##### Exponent Operator"
   ]
  },
  {
   "cell_type": "code",
   "execution_count": null,
   "metadata": {},
   "outputs": [],
   "source": [
    "length=int(input('what is the value of the length?'))\n",
    "print('Area =',length**2)"
   ]
  },
  {
   "cell_type": "markdown",
   "metadata": {},
   "source": [
    "##### Remainder Operator "
   ]
  },
  {
   "cell_type": "code",
   "execution_count": null,
   "metadata": {},
   "outputs": [],
   "source": [
    "total_sec=int(input('Input the value for conversion'))\n",
    "hours=(total_sec//3600)\n",
    "min=(total_sec//60)%60\n",
    "secs=(total_sec&60)\n",
    "print('The time value is',hours,':',min,':',secs)"
   ]
  },
  {
   "cell_type": "markdown",
   "metadata": {},
   "source": [
    "# Converting Math Formulas to Programming Statements\n",
    "Suppose you want to deposit a certain amount of money into a savings account and leave it\n",
    "alone to draw interest for the next 10 years. At the end of 10 years, you would like to have\n",
    "$10,000 in the account. How much do you need to deposit today to make that happen?  <br>\n",
    "p=F/(1+r)**n"
   ]
  },
  {
   "cell_type": "code",
   "execution_count": null,
   "metadata": {},
   "outputs": [],
   "source": [
    "Future=float(input('Input desired future value'))\n",
    "Rate=float(input('Enter the annual interest rate'))\n",
    "Year=int(input('Enter the number of years the money will grow'))\n",
    "print(Future/(1+(Rate/100))**Year,':is the amount you have to deposit now!')"
   ]
  },
  {
   "cell_type": "markdown",
   "metadata": {},
   "source": [
    "# MORE ABOUT OUTPUT DATA"
   ]
  },
  {
   "cell_type": "markdown",
   "metadata": {},
   "source": [
    "### Breaking Long Statements into Multiple Lines\n",
    "By using the line continuation character, which is a backslash ```(\\)```"
   ]
  },
  {
   "cell_type": "code",
   "execution_count": null,
   "metadata": {},
   "outputs": [],
   "source": [
    "result=(567733+56567776-576567+678678+566767*67687769//67576*0.2)**0+\\\n",
    "        2000**0+6\n",
    "print(result)\n",
    "# character\n",
    "print(\"Monday's sales are\",\n",
    "\"and Tuesday's sales are\",\n",
    "\"and Wednesday's sales are\")"
   ]
  },
  {
   "cell_type": "markdown",
   "metadata": {},
   "source": [
    "### Suppressing the print Function’s Ending Newline\n",
    "The print function normally displays a line of output. For example, the following three\n",
    "statements will produce three lines of output:\n",
    "`print('One')`<br>\n",
    "`print('Two')` <br>\n",
    "`print('Three')` <br>\n",
    "If you do not want the print function to start a new line of output when it finishes displaying its output, you can pass the special argument end=' ' to the function.<br>\n",
    "Whatever you put inside the end argument will seperate the different print \n"
   ]
  },
  {
   "cell_type": "code",
   "execution_count": null,
   "metadata": {},
   "outputs": [],
   "source": [
    "print('one',end=' ')\n",
    "print('two',end='_')\n",
    "print ('three',end='')"
   ]
  },
  {
   "cell_type": "markdown",
   "metadata": {},
   "source": [
    "### Specifying an Item Separator\n",
    "When multiple arguments are passed to the print function, they are automatically separated by a space when they are displayed on the screen but you can determine the seperator by using the `sep=` argument."
   ]
  },
  {
   "cell_type": "code",
   "execution_count": null,
   "metadata": {},
   "outputs": [],
   "source": [
    "print('My name is Adewole',\n",
    "      \"I'am 12yrs old\",\n",
    "      \"I'm a graduate of Life Science\",sep='_')"
   ]
  },
  {
   "cell_type": "markdown",
   "metadata": {},
   "source": [
    "### Escape Characters\n",
    "An escape character is a special character that is preceded with a backslash (\\), appearing\n",
    "inside a string literal. When a string literal that contains escape characters is printed, the\n",
    "escape characters are treated as special commands that are embedded in the string.\n",
    "- `\\n `Causes output to be advanced to the next line.\n",
    "- `\\t` Causes output to skip over to the next horizontal tab position.\n",
    "- `\\'` Causes a single quote mark to be printed.\n",
    "- `\\\"` Causes a double quote mark to be printed.\n",
    "- `\\\\` Causes a backslash character to be printed."
   ]
  },
  {
   "cell_type": "code",
   "execution_count": 42,
   "metadata": {},
   "outputs": [
    {
     "name": "stdout",
     "output_type": "stream",
     "text": [
      "one\n",
      "two\n",
      "three\n",
      "one\ttwo\tthree\n",
      "one'two'three\n",
      "The path is C:\\temp\\data.\n",
      "one\"two\"three\n"
     ]
    }
   ],
   "source": [
    "print('one\\ntwo\\nthree')\n",
    "print('one\\ttwo\\tthree')\n",
    "print('one\\'two\\'three')\n",
    "print('The path is C:\\\\temp\\\\data.')\n",
    "print('one\\\"two\\\"three')\n"
   ]
  },
  {
   "cell_type": "markdown",
   "metadata": {},
   "source": [
    "## Displaying Multiple Item with the + operator \n",
    "When `'+'` is used between two string it perform a string concatenation"
   ]
  },
  {
   "cell_type": "code",
   "execution_count": null,
   "metadata": {},
   "outputs": [],
   "source": [
    "print('This is'+'one string')\n",
    "print('This is '+'one string')"
   ]
  },
  {
   "cell_type": "markdown",
   "metadata": {},
   "source": [
    "## Formatting Numbers\n",
    "This can be done with the inbuilt format statement that takes in two argument, a numeric value and  format specifier"
   ]
  },
  {
   "cell_type": "code",
   "execution_count": null,
   "metadata": {},
   "outputs": [],
   "source": [
    "print('this is a number:'+format(1246.67676576,'.2f'))\n",
    "print('the amount to pay is $'+format(1246.67676576,'.2f'))"
   ]
  },
  {
   "cell_type": "markdown",
   "metadata": {},
   "source": [
    "## Formatting Scientific Notation "
   ]
  },
  {
   "cell_type": "code",
   "execution_count": null,
   "metadata": {},
   "outputs": [],
   "source": [
    "print('this is a scientific notation of:'+format(1246.67676576,'e'))\n",
    "print('this is a scientific notation of:'+format(1246.67676576,'.5e'))"
   ]
  },
  {
   "cell_type": "markdown",
   "metadata": {},
   "source": [
    "## Inserting Comma Seperation"
   ]
  },
  {
   "cell_type": "code",
   "execution_count": 40,
   "metadata": {},
   "outputs": [
    {
     "name": "stdout",
     "output_type": "stream",
     "text": [
      "this is a comma seperated 12,446.676766\n",
      "this is a comma seperated #12,447\n",
      "this is a comma seperated $12,446.68\n"
     ]
    }
   ],
   "source": [
    "print('this is a comma seperated '+format(12446.67676576,',f'))\n",
    "print('this is a comma seperated #'+format(12446.67676576,',.0f'))\n",
    "print('this is a comma seperated $'+format(12446.67676576,',.2f'))"
   ]
  },
  {
   "cell_type": "markdown",
   "metadata": {},
   "source": [
    "## Specifying a minimum field width\n",
    "The field width is the min number of space that should be displayed in the value. "
   ]
  },
  {
   "cell_type": "code",
   "execution_count": null,
   "metadata": {},
   "outputs": [],
   "source": [
    "print('this is a 12 width number '+format(12446.6767,'12.2f'))\n",
    "print('this is a 12 width number'+format(2.45,'12.2f'))\n",
    "print('this is a 12 width number '+format(12446.6767,'5.2f'))\n",
    "\n",
    "num1=127.899\n",
    "num2=3456.124\n",
    "num3=3.778\n",
    "num4=264.812\n",
    "num5=88.998\n",
    "\n",
    "print(format(num1,'7.2f'))\n",
    "print(format(num2,'7.2f'))\n",
    "print(format(num3,'7.2f'))\n",
    "print(format(num4,'7.2f'))\n",
    "print(format(num5,'7.2f'))"
   ]
  },
  {
   "cell_type": "markdown",
   "metadata": {},
   "source": [
    "## Formattting a floating number as percentage "
   ]
  },
  {
   "cell_type": "code",
   "execution_count": 45,
   "metadata": {},
   "outputs": [
    {
     "name": "stdout",
     "output_type": "stream",
     "text": [
      "50.000000%\n",
      "50%\n",
      "51%\n",
      "51.23%\n"
     ]
    }
   ],
   "source": [
    "print(format(0.5,'%'))\n",
    "print(format(0.5,'.0%'))\n",
    "print(format(0.5123,'.0%'))\n",
    "print(format(0.5123,'.2%'))"
   ]
  },
  {
   "cell_type": "markdown",
   "metadata": {},
   "source": [
    "## Formatting Integers\n",
    "When formatting integers there are two things to keep in mind;\n",
    "- Using the d as the type designator\n",
    "- Cannot specify precision "
   ]
  },
  {
   "cell_type": "code",
   "execution_count": null,
   "metadata": {},
   "outputs": [],
   "source": [
    "print(format(123456,'d'))\n",
    "# with a comma seperator\n",
    "print(format(12345,',d'))\n",
    "# specifying a field with \n",
    "print(format(123456,'10,d'))\n",
    "print(format(12345678,'10,d'))"
   ]
  },
  {
   "cell_type": "markdown",
   "metadata": {},
   "source": [
    "# Turtle Graphics \n",
    "The Python turtle graphics system simulates a “turtle” that obeys commands to draw simple graphics."
   ]
  },
  {
   "cell_type": "markdown",
   "metadata": {},
   "source": [
    "#### Drawing line with turtle\n",
    "the command turtle.forward(200) moves the turtle forward 200 pixels"
   ]
  },
  {
   "cell_type": "code",
   "execution_count": null,
   "metadata": {},
   "outputs": [],
   "source": [
    "import turtle\n",
    "turtle.forward(200)\n",
    "turtle.done()"
   ]
  },
  {
   "cell_type": "markdown",
   "metadata": {},
   "source": [
    "#### Turning right \n"
   ]
  },
  {
   "cell_type": "code",
   "execution_count": null,
   "metadata": {},
   "outputs": [],
   "source": [
    "import turtle\n",
    "turtle.forward(200)\n",
    "turtle.right(90)\n",
    "turtle.forward(200)\n",
    "turtle.done()"
   ]
  },
  {
   "cell_type": "markdown",
   "metadata": {},
   "source": [
    "#### Turning left\n"
   ]
  },
  {
   "cell_type": "code",
   "execution_count": null,
   "metadata": {},
   "outputs": [],
   "source": [
    "import turtle\n",
    "turtle.forward(100)\n",
    "turtle.left(120)\n",
    "turtle.forward(150)\n",
    "turtle.done()"
   ]
  },
  {
   "cell_type": "markdown",
   "metadata": {},
   "source": [
    "#### Turning the turtle by 45 degree angles\n",
    "At the beginning of this session, the turtle’s heading is 0 degrees. In the third line, the turtle is turned left by 45 degrees. In the fifth line, the turtle is turned left again by an additional 45 degrees. \n",
    "In the seventh line, the turtle is once again turned left by 45 degrees. After all of these 45 degree turns, the turtle’s heading will finally be 135 degrees.\n"
   ]
  },
  {
   "cell_type": "code",
   "execution_count": null,
   "metadata": {},
   "outputs": [],
   "source": [
    "import turtle\n",
    "turtle.forward(50)\n",
    "turtle.left(45)\n",
    "turtle.forward(50)\n",
    "turtle.left(45)\n",
    "turtle.forward(50)\n",
    "turtle.left(45)\n",
    "turtle.forward(50)\n",
    "turtle.done()"
   ]
  },
  {
   "cell_type": "markdown",
   "metadata": {},
   "source": [
    "#### Setting the Turtle’s Heading to a Specific Angle\n",
    "The turtle’s initial heading is 0 degrees. In the third line, the turtle’s heading is set to 90 degrees. Then, in the fifth line, the turtle’s heading is set to 180 degrees. Then, in the seventh line, the turtle’s heading is set to 270 degrees."
   ]
  },
  {
   "cell_type": "code",
   "execution_count": null,
   "metadata": {},
   "outputs": [],
   "source": [
    "import turtle\n",
    "turtle.forward(50)\n",
    "turtle.setheading(90)\n",
    "turtle.forward(100)\n",
    "turtle.setheading(180)\n",
    "turtle.forward(50)\n",
    "turtle.setheading(270)\n",
    "turtle.forward(100)\n",
    "turtle.done()"
   ]
  },
  {
   "cell_type": "markdown",
   "metadata": {},
   "source": [
    "#### Getting the Turtle’s Current Heading\n",
    "turtle.heading() command to display the turtle’s current heading"
   ]
  },
  {
   "cell_type": "code",
   "execution_count": null,
   "metadata": {},
   "outputs": [],
   "source": [
    "import turtle\n",
    "turtle.setheading(180)\n",
    "turtle.heading()\n",
    "turtle.done()\n"
   ]
  },
  {
   "cell_type": "markdown",
   "metadata": {},
   "source": [
    "#### Moving the Pen Up and Down\n",
    "turtle.penup() command to raise the pen, and the turtle. pendown() command to lower the pen. When the pen is up, you can move the turtle without drawing a line. When the pen is down, the turtle leaves a line when it is moved. (By default, the pen is down.)"
   ]
  },
  {
   "cell_type": "code",
   "execution_count": null,
   "metadata": {},
   "outputs": [],
   "source": [
    "import turtle\n",
    "turtle.forward (50)\n",
    "turtle.penup()\n",
    "turtle.forward(25)\n",
    "turtle.pendown()\n",
    "turtle.forward(50)\n",
    "turtle.penup()\n",
    "turtle.forward(25)\n",
    "turtle.pendown()\n",
    "turtle.forward(50)\n",
    "turtle.done()"
   ]
  },
  {
   "cell_type": "markdown",
   "metadata": {},
   "source": [
    "#### Drawing Circles and Dots"
   ]
  },
  {
   "cell_type": "code",
   "execution_count": null,
   "metadata": {},
   "outputs": [],
   "source": [
    "import turtle\n",
    "turtle.circle(100)\n",
    "turtle.done()"
   ]
  },
  {
   "cell_type": "code",
   "execution_count": null,
   "metadata": {},
   "outputs": [],
   "source": [
    "import turtle\n",
    "turtle.dot()\n",
    "turtle.forward(50)\n",
    "turtle.dot()\n",
    "turtle.forward(50)\n",
    "turtle.dot()\n",
    "turtle.forward(50)\n",
    "turtle.done()"
   ]
  },
  {
   "cell_type": "markdown",
   "metadata": {},
   "source": [
    "#### Changing the Pen Size"
   ]
  },
  {
   "cell_type": "code",
   "execution_count": 70,
   "metadata": {},
   "outputs": [],
   "source": [
    "import turtle\n",
    "turtle.pensize(5)\n",
    "turtle.circle(100)\n",
    "turtle.done()"
   ]
  },
  {
   "cell_type": "markdown",
   "metadata": {},
   "source": [
    "#### Changing the background color"
   ]
  },
  {
   "cell_type": "code",
   "execution_count": 72,
   "metadata": {},
   "outputs": [],
   "source": [
    "import turtle\n",
    "turtle.bgcolor('gray')\n",
    "turtle.pencolor('red')\n",
    "turtle.circle(100)\n",
    "turtle.done()"
   ]
  },
  {
   "cell_type": "markdown",
   "metadata": {},
   "source": [
    "#### Resetting the Screen\n",
    "- The turtle.reset() command erases all drawings that currently appear in the graphics window, resets the drawing color to black, and resets the turtle to its original position in the center of the screen. This command does not reset the graphics window’s\n",
    "background color.\n",
    "- The turtle.clear() command simply erases all drawings that currently appear in\n",
    "the graphics window. It does not change the turtle’s position, the drawing color, or\n",
    "the graphics window’s background color.\n",
    "- The turtle.clearscreen() command erases all drawings that currently appear in\n",
    "the graphics window, resets the drawing color to black, reset the graphics window’s\n",
    "background color to white, and resets the turtle to its original position in the center\n",
    "of the graphics window."
   ]
  },
  {
   "cell_type": "markdown",
   "metadata": {},
   "source": [
    "#### Specifying the Size of the Graphics Window"
   ]
  },
  {
   "cell_type": "code",
   "execution_count": 74,
   "metadata": {},
   "outputs": [],
   "source": [
    "import turtle\n",
    "turtle.setup(640,480)\n",
    "turtle.circle(50)\n",
    "turtle.done()"
   ]
  },
  {
   "cell_type": "markdown",
   "metadata": {},
   "source": [
    "#### Moving the turtle to a specific location\n",
    "- The pixel in the center of the graphics window is at the position (0, 0), which means that its X coordinate is 0 and its Y coordinate is 0.\n",
    "- The X coordinates increase in value as we move toward the right side of the window,\n",
    "and they decrease in value as we move toward the left side of the window.\n",
    "- The Y coordinates increase in value as we move toward the top of the window, and\n",
    "decrease in value as we move toward the bottom of the window.\n",
    "- Pixels that are located to the right of the center point have positive X coordinates, and\n",
    "pixels that are located to the left of the center point have negative X coordinates.\n",
    "- Pixels that are located above the center point have positive Y coordinates, and pixels\n",
    "that are located below the center point have negative Y coordinates."
   ]
  },
  {
   "cell_type": "code",
   "execution_count": 76,
   "metadata": {},
   "outputs": [],
   "source": [
    "import turtle\n",
    "turtle.goto(0,100)\n",
    "turtle.goto(-100,0)\n",
    "turtle.goto(0,0)\n",
    "turtle.done()"
   ]
  },
  {
   "cell_type": "code",
   "execution_count": 79,
   "metadata": {},
   "outputs": [],
   "source": [
    "import turtle\n",
    "turtle.goto(100,150)\n",
    "turtle.pos()\n",
    "turtle.done()"
   ]
  },
  {
   "cell_type": "markdown",
   "metadata": {},
   "source": [
    "#### controlling the speed of the turtle "
   ]
  },
  {
   "cell_type": "code",
   "execution_count": 81,
   "metadata": {},
   "outputs": [],
   "source": [
    "import turtle\n",
    "turtle.speed(0)\n",
    "turtle.circle(100)\n",
    "turtle.done()"
   ]
  },
  {
   "cell_type": "code",
   "execution_count": 83,
   "metadata": {},
   "outputs": [],
   "source": [
    "import turtle\n",
    "turtle.speed(1)\n",
    "turtle.circle(100)\n",
    "turtle.done()"
   ]
  },
  {
   "cell_type": "code",
   "execution_count": 2,
   "metadata": {},
   "outputs": [],
   "source": [
    "#getting the current animation speed\n",
    "import turtle\n",
    "turtle.speed()\n",
    "turtle.done()"
   ]
  },
  {
   "cell_type": "markdown",
   "metadata": {},
   "source": [
    "#### Displaying text"
   ]
  },
  {
   "cell_type": "code",
   "execution_count": 4,
   "metadata": {},
   "outputs": [],
   "source": [
    "import turtle\n",
    "turtle.write('Hello World!')\n",
    "turtle.done()"
   ]
  },
  {
   "cell_type": "code",
   "execution_count": 6,
   "metadata": {},
   "outputs": [],
   "source": [
    "import turtle\n",
    "turtle.setup(300,300)\n",
    "turtle.penup()\n",
    "turtle.hideturtle()\n",
    "turtle.goto(-120,120)\n",
    "turtle.write('Top Left')\n",
    "turtle.goto(70,-120)\n",
    "turtle.write('Bottom right')\n",
    "turtle.done()"
   ]
  },
  {
   "cell_type": "markdown",
   "metadata": {},
   "source": [
    "#### Filling Shapes\n",
    "To fill a shape with a color, you use the turtle.begin_fill() command before drawing the shape, then you use the turtle.end_fill() command after the shape is drawn"
   ]
  },
  {
   "cell_type": "code",
   "execution_count": 8,
   "metadata": {},
   "outputs": [],
   "source": [
    "import turtle\n",
    "turtle.hideturtle()\n",
    "turtle.begin_fill()\n",
    "turtle.circle(100)\n",
    "turtle.end_fill()\n",
    "turtle.done()"
   ]
  },
  {
   "cell_type": "code",
   "execution_count": null,
   "metadata": {},
   "outputs": [],
   "source": [
    "import turtle\n",
    "turtle.hideturtle()\n",
    "turtle.fillcolor('red')\n",
    "turtle.begin_fill()\n",
    "turtle.circle(100)\n",
    "turtle.end_fill()"
   ]
  },
  {
   "cell_type": "code",
   "execution_count": 15,
   "metadata": {},
   "outputs": [],
   "source": [
    "import turtle\n",
    "turtle.hideturtle()\n",
    "turtle.fillcolor('blue')\n",
    "turtle.begin_fill()\n",
    "turtle.forward(100)\n",
    "turtle.left(90)\n",
    "turtle.forward(100)\n",
    "turtle.left(90)\n",
    "turtle.forward(100)\n",
    "turtle.left(90)\n",
    "turtle.forward(100)\n",
    "turtle.end_fill()\n",
    "turtle.done()"
   ]
  },
  {
   "cell_type": "markdown",
   "metadata": {},
   "source": [
    "## The Orion Constellation"
   ]
  },
  {
   "cell_type": "code",
   "execution_count": 51,
   "metadata": {},
   "outputs": [],
   "source": [
    "# This program draws the stars of the Orion constellation,\n",
    "# the names of the stars, and the constellation lines.\n",
    "import turtle\n",
    "\n",
    "# Set the window size.\n",
    "turtle.setup(500, 600)\n",
    "\n",
    "# Setup the turtle.\n",
    "turtle.penup()\n",
    "turtle.hideturtle()\n",
    "\n",
    "# Create named constants for the star coordinates.\n",
    "LEFT_SHOULDER_X = -70\n",
    "LEFT_SHOULDER_Y = 200\n",
    "\n",
    "RIGHT_SHOULDER_X = 80\n",
    "RIGHT_SHOULDER_Y = 180\n",
    "\n",
    "LEFT_BELTSTAR_X = -40\n",
    "LEFT_BELTSTAR_Y = -20\n",
    "\n",
    "MIDDLE_BELTSTAR_X = 0\n",
    "MIDDLE_BELTSTAR_Y = 0\n",
    "\n",
    "RIGHT_BELTSTAR_X = 40\n",
    "RIGHT_BELTSTAR_Y = 20\n",
    "\n",
    "LEFT_KNEE_X = -90\n",
    "LEFT_KNEE_Y = -180\n",
    "\n",
    "RIGHT_KNEE_X = 120\n",
    "RIGHT_KNEE_Y = -140\n",
    "\n",
    "# Draw the stars.\n",
    "turtle.goto(LEFT_SHOULDER_X, LEFT_SHOULDER_Y)  # Left shoulder\n",
    "turtle.dot()\n",
    "turtle.goto(RIGHT_SHOULDER_X, RIGHT_SHOULDER_Y)  # Right shoulder\n",
    "turtle.dot()\n",
    "turtle.goto(LEFT_BELTSTAR_X, LEFT_BELTSTAR_Y)  # Left belt star\n",
    "turtle.dot()\n",
    "turtle.goto(MIDDLE_BELTSTAR_X, MIDDLE_BELTSTAR_Y)  # Middle belt star\n",
    "turtle.dot()\n",
    "turtle.goto(RIGHT_BELTSTAR_X, RIGHT_BELTSTAR_Y)  # Right belt star\n",
    "turtle.dot()\n",
    "turtle.goto(LEFT_KNEE_X, LEFT_KNEE_Y)  # Left knee\n",
    "turtle.dot()\n",
    "turtle.goto(RIGHT_KNEE_X, RIGHT_KNEE_Y)  # Right knee\n",
    "turtle.dot()\n",
    "\n",
    "# Display the star names\n",
    "turtle.goto(LEFT_SHOULDER_X, LEFT_SHOULDER_Y)  # Left shoulder\n",
    "turtle.write('Betelgeuse')\n",
    "turtle.goto(RIGHT_SHOULDER_X, RIGHT_SHOULDER_Y)  # Right shoulder\n",
    "turtle.write('Meissa')\n",
    "turtle.goto(LEFT_BELTSTAR_X, LEFT_BELTSTAR_Y)  # Left belt star\n",
    "turtle.write('Alnitak')\n",
    "turtle.goto(MIDDLE_BELTSTAR_X, MIDDLE_BELTSTAR_Y)  # Middle belt star\n",
    "turtle.write('Alnilam')\n",
    "turtle.goto(RIGHT_BELTSTAR_X, RIGHT_BELTSTAR_Y)  # Right belt star\n",
    "turtle.write('Mintaka')\n",
    "turtle.goto(LEFT_KNEE_X, LEFT_KNEE_Y)  # Left knee\n",
    "turtle.write('Saiph')\n",
    "turtle.goto(RIGHT_KNEE_X, RIGHT_KNEE_Y)  # Right knee\n",
    "turtle.write('Rigel')\n",
    "\n",
    "# Draw a line from the left shoulder to left belt star\n",
    "turtle.goto(LEFT_SHOULDER_X, LEFT_SHOULDER_Y)\n",
    "turtle.pendown()\n",
    "turtle.goto(LEFT_BELTSTAR_X, LEFT_BELTSTAR_Y)\n",
    "turtle.penup()\n",
    "\n",
    "# Draw a line from the right shoulder to right belt star\n",
    "turtle.goto(RIGHT_SHOULDER_X, RIGHT_SHOULDER_Y)\n",
    "turtle.pendown()\n",
    "turtle.goto(RIGHT_BELTSTAR_X, RIGHT_BELTSTAR_Y)\n",
    "turtle.penup()\n",
    "\n",
    "# Draw a line from the left belt star to middle belt star\n",
    "turtle.goto(LEFT_BELTSTAR_X, LEFT_BELTSTAR_Y)\n",
    "turtle.pendown()\n",
    "turtle.goto(MIDDLE_BELTSTAR_X, MIDDLE_BELTSTAR_Y)\n",
    "turtle.penup()\n",
    "\n",
    "# Draw a line from the middle belt star to right belt star\n",
    "turtle.goto(MIDDLE_BELTSTAR_X, MIDDLE_BELTSTAR_Y)\n",
    "turtle.pendown()\n",
    "turtle.goto(RIGHT_BELTSTAR_X, RIGHT_BELTSTAR_Y)\n",
    "turtle.penup()\n",
    "\n",
    "# Draw a line from the left belt star to left knee\n",
    "turtle.goto(LEFT_BELTSTAR_X, LEFT_BELTSTAR_Y)\n",
    "turtle.pendown()\n",
    "turtle.goto(LEFT_KNEE_X, LEFT_KNEE_Y)\n",
    "turtle.penup()\n",
    "\n",
    "# Draw a line from the right belt star to right knee\n",
    "turtle.goto(RIGHT_BELTSTAR_X, RIGHT_BELTSTAR_Y)\n",
    "turtle.pendown()\n",
    "turtle.goto(RIGHT_KNEE_X, RIGHT_KNEE_Y)\n",
    "\n",
    "# Keep the window open. (Not necessary with IDLE.)\n",
    "turtle.done()\n"
   ]
  },
  {
   "cell_type": "markdown",
   "metadata": {},
   "source": [
    "# Excercise: Compound Interest Calculation \n",
    "When a bank account pays compound interest, it pays interest not only on the principal\n",
    "amount that was deposited into the account, but also on the interest that has accumulated\n",
    "over time. Suppose you want to deposit some money into a savings account, and let the\n",
    "account earn compound interest for a certain number of years. The formula for calculating\n",
    "the balance of the account after a specified number of years is:<br>\n",
    "`A=P(1 + n/r)**nt`<br>\n",
    "The terms in the formula are:\n",
    "- A is the amount of money in the account after the specified number of years.\n",
    "- P is the principal amount that was originally deposited into the account.\n",
    "- r is the annual interest rate.\n",
    "- n is the number of times per year that the interest is compounded.\n",
    "- t is the specified number of years."
   ]
  },
  {
   "cell_type": "code",
   "execution_count": 49,
   "metadata": {},
   "outputs": [
    {
     "name": "stdout",
     "output_type": "stream",
     "text": [
      "The Principal is $20000.0\n",
      "The rate: 25.00%\n",
      "The interest compounds 2 times yearly\n",
      "For  5.0 years\n",
      "Therefore, the Compound interest is $64,946.42\n"
     ]
    }
   ],
   "source": [
    "Principal=float(input('How much are you planmning to deposit'))\n",
    "rate=float(input('At what rate'))/100\n",
    "n=int(input('how many times a year does interest compound'))\n",
    "years=float(input('for how many years??'))\n",
    "print('The Principal is '+'$'+str(Principal))\n",
    "print('The rate:',format(rate,'.2%'))\n",
    "print('The interest compounds '+str(n)+' times'+' yearly')\n",
    "print('For ', years, 'years')\n",
    "print('Therefore, the Compound interest is '+'$'+str(format(Principal*(1+rate/n)**(n*years),',.2f')))"
   ]
  }
 ],
 "metadata": {
  "kernelspec": {
   "display_name": "Python 3",
   "language": "python",
   "name": "python3"
  },
  "language_info": {
   "codemirror_mode": {
    "name": "ipython",
    "version": 3
   },
   "file_extension": ".py",
   "mimetype": "text/x-python",
   "name": "python",
   "nbconvert_exporter": "python",
   "pygments_lexer": "ipython3",
   "version": "3.12.4"
  }
 },
 "nbformat": 4,
 "nbformat_minor": 2
}

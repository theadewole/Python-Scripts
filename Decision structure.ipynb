{
 "cells": [
  {
   "cell_type": "markdown",
   "metadata": {},
   "source": [
    "# If Statement\n",
    "In Python, we use the if statement to write a single alternative decision structure. Here is\n",
    "the general format of the if statement: <br>\n",
    "```\n",
    "if condition:\n",
    "statement\n",
    "statement\n",
    "etc.\n",
    "```\n",
    "#### Boolean expression and operands\n",
    "```\n",
    "> Greater than\n",
    "< Less than\n",
    ">= Greater than or equal to\n",
    "<= Less than or equal to\n",
    "== Equal to\n",
    "!= Not equal to\n",
    "```"
   ]
  },
  {
   "cell_type": "code",
   "execution_count": 2,
   "metadata": {},
   "outputs": [
    {
     "name": "stdout",
     "output_type": "stream",
     "text": [
      "Average score is: 84.66666666666667\n",
      "Congratulation!\n"
     ]
    }
   ],
   "source": [
    "HIGH_SCORE=70\n",
    "test1=int(input('test score 1: '))\n",
    "test2=int(input('test score 2: '))\n",
    "test3=int(input('test score 3: '))\n",
    "average=(test1+test2+test3)/3\n",
    "\n",
    "print('Average score is:',average)\n",
    "if average >= HIGH_SCORE:\n",
    "    print('Congratulation!')"
   ]
  },
  {
   "cell_type": "code",
   "execution_count": 3,
   "metadata": {},
   "outputs": [
    {
     "name": "stdout",
     "output_type": "stream",
     "text": [
      "You meet your quota\n"
     ]
    }
   ],
   "source": [
    "sales=7000\n",
    "\n",
    "if sales > 5000:\n",
    "    bonus=500\n",
    "    comm_rate=0.12\n",
    "    print('You meet your quota')"
   ]
  },
  {
   "cell_type": "markdown",
   "metadata": {},
   "source": [
    "# IF ELSE Statement\n",
    "In code, we write a dual alternative decision structure as an if-else statement. Here is the\n",
    "general format of the if-else statement:\n",
    "```\n",
    "if condition:\n",
    "statement\n",
    "statement\n",
    "etc.\n",
    "else:\n",
    "statement\n",
    "statement\n",
    "etc.\n",
    "```"
   ]
  },
  {
   "cell_type": "code",
   "execution_count": 5,
   "metadata": {},
   "outputs": [
    {
     "name": "stdout",
     "output_type": "stream",
     "text": [
      "A little cold, isn't it?\n"
     ]
    }
   ],
   "source": [
    "temperature=39\n",
    "\n",
    "if temperature<40:\n",
    "    print(\"A little cold, isn't it?\")\n",
    "else:\n",
    "    print(\"Nice weather we're having.\")"
   ]
  },
  {
   "cell_type": "code",
   "execution_count": 16,
   "metadata": {},
   "outputs": [
    {
     "name": "stdout",
     "output_type": "stream",
     "text": [
      "The gross pay is $800.00\n"
     ]
    }
   ],
   "source": [
    "base_hr=40\n",
    "overtime=1.5\n",
    "\n",
    "hrs=float(input('How many hours do you work??'))\n",
    "pay=float(input('How much do you earn'))\n",
    "\n",
    "if hrs<base_hr:\n",
    "    print('The gross pay is $'+str(format(hrs*pay,',.2f')))\n",
    "else:\n",
    "    print('The gross pay is $'+\n",
    "          str(format(((base_hr)*pay)+((hrs-base_hr)*pay*overtime),',.2f')))"
   ]
  },
  {
   "cell_type": "markdown",
   "metadata": {},
   "source": [
    "# Comparing Strings "
   ]
  },
  {
   "cell_type": "code",
   "execution_count": 23,
   "metadata": {},
   "outputs": [
    {
     "name": "stdout",
     "output_type": "stream",
     "text": [
      "both names are the same\n"
     ]
    }
   ],
   "source": [
    "name1='Halima'\n",
    "name2='Halima'\n",
    "\n",
    "if name1==name2:\n",
    "    print('both names are the same')\n",
    "else:\n",
    "    print('both name are not identical')"
   ]
  },
  {
   "cell_type": "code",
   "execution_count": 24,
   "metadata": {},
   "outputs": [
    {
     "name": "stdout",
     "output_type": "stream",
     "text": [
      "You have entered the wrong password, try again\n"
     ]
    }
   ],
   "source": [
    "password=str(input('What is your password?'))\n",
    "\n",
    "if password=='Love_2125':\n",
    "    print('Password accepted')\n",
    "else:\n",
    "    if password!='Love_2125':\n",
    "        print('You have entered the wrong password, try again')"
   ]
  },
  {
   "cell_type": "markdown",
   "metadata": {},
   "source": [
    "### Other String Comparism \n",
    "- The uppercase characters A through Z are represented by the numbers 65 through 90.\n",
    "- The lowercase characters a through z are represented by the numbers 97 through 122.\n",
    "- When the digits 0 through 9 are stored in memory as characters, they are represented\n",
    "by the numbers 48 through 57. (For example, the string 'abc123' would be stored\n",
    "in memory as the codes 97, 98, 99, 49, 50, and 51.)\n",
    "- A blank space is represented by the number 32. <br>\n",
    "In addition to establishing a set of numeric codes to represent characters in memory, ASCII\n",
    "also establishes an order for characters. The character “A” comes before the character “B”,\n",
    "which comes before the character “C”, and so on. <br>\n",
    "```\n",
    "M a r y                  M a r k\n",
    "77 97 114 121            77 97 114 107\n",
    "```\n",
    "Here is how the comparison takes place:\n",
    "1. The 'M' in 'Mary' is compared with the 'M' in 'Mark'. Since these are the same, the\n",
    "next characters are compared.\n",
    "2. The 'a' in 'Mary' is compared with the 'a' in 'Mark'. Since these are the same, the\n",
    "next characters are compared.\n",
    "3. The 'r' in 'Mary' is compared with the 'r' in 'Mark'. Since these are the same, the\n",
    "next characters are compared.\n",
    "4. The 'y' in 'Mary' is compared with the 'k' in 'Mark'. Since these are not the same,\n",
    "the two strings are not equal. The character 'y' has a higher ASCII code (121) than\n",
    "'k' (107), so it is determined that the string 'Mary' is greater than the string 'Mark'."
   ]
  },
  {
   "cell_type": "code",
   "execution_count": 25,
   "metadata": {},
   "outputs": [
    {
     "name": "stdout",
     "output_type": "stream",
     "text": [
      "the letter a is less than b\n"
     ]
    }
   ],
   "source": [
    "if 'a'<'b':\n",
    "    print('the letter a is less than b')"
   ]
  },
  {
   "cell_type": "code",
   "execution_count": 26,
   "metadata": {},
   "outputs": [
    {
     "name": "stdout",
     "output_type": "stream",
     "text": [
      "Mary is greater than Mark\n"
     ]
    }
   ],
   "source": [
    "name1='Mary'\n",
    "name2='MarK'\n",
    "if name1>name2:\n",
    "    print('Mary is greater than Mark')\n",
    "else:\n",
    "    print('Mark is greater than Mary')\n"
   ]
  },
  {
   "cell_type": "code",
   "execution_count": 31,
   "metadata": {},
   "outputs": [
    {
     "name": "stdout",
     "output_type": "stream",
     "text": [
      "Toyin takes the higher share\n"
     ]
    }
   ],
   "source": [
    "my_name=input('what is your name?')\n",
    "friends_name=input('what is your friends name')\n",
    "\n",
    "if my_name>friends_name:\n",
    "    print(my_name+' takes the higher share')\n",
    "else:\n",
    "    print(friends_name+' takes the higher share')"
   ]
  },
  {
   "cell_type": "markdown",
   "metadata": {},
   "source": [
    "# Nested Decision structure and the if-elif-else statement \n",
    "\n",
    "```\n",
    "Structure:\n",
    "if: The first condition is checked. If it’s true, the corresponding block of code is executed.\n",
    "elif: If the if condition is false, one or more elif conditions are checked sequentially.\n",
    "else: If all if and elif conditions are false, the else block is executed.\n",
    "```"
   ]
  },
  {
   "cell_type": "code",
   "execution_count": 5,
   "metadata": {},
   "outputs": [
    {
     "name": "stdout",
     "output_type": "stream",
     "text": [
      "My anaual salary is $45,000.00. With 6 year (s) on the Job.\n",
      "Status: You qualify for the loan\n"
     ]
    }
   ],
   "source": [
    "min_salary=30000\n",
    "min_yrs=2\n",
    "\n",
    "salary=float(input('what is your annual salary??'))\n",
    "duration=int(input('How many years have you been on the Job??'))\n",
    "print('My anaual salary is $',\n",
    "      format(salary,',.2f'),\n",
    "      '. ','With ',duration,' year (s) on the Job.',sep='')\n",
    "\n",
    "# Here the 1st two if condition must be meet for the loan to be granted, \n",
    "# the two else statement returns the result for each of the if statement that was not meet\n",
    "if salary>=min_salary:\n",
    "    if duration>=min_yrs:\n",
    "        print('Status: You qualify for the loan')\n",
    "    else:\n",
    "        print('Status: You must have been employed', \n",
    "              'for at least', \n",
    "              min_yrs,\n",
    "              'years to qualify.')\n",
    "else:\n",
    "    print('Status: You must earn at least $',\n",
    "          format(min_salary,',.2f'),\n",
    "          ' per year to qualify.',\n",
    "          sep='')\n"
   ]
  },
  {
   "cell_type": "code",
   "execution_count": 65,
   "metadata": {},
   "outputs": [
    {
     "name": "stdout",
     "output_type": "stream",
     "text": [
      "Score=67.0\n",
      "Your grade is D\n"
     ]
    }
   ],
   "source": [
    "score=float(input('What is your score?'))\n",
    "print('Score=',score,sep='')\n",
    "\n",
    "if score>=90:\n",
    "    print('Your grade is A')\n",
    "else:\n",
    "    if score>=80:\n",
    "        print('Your grade is B')\n",
    "    else:\n",
    "        if score>=70:\n",
    "            print('Your grade is C')\n",
    "        else:\n",
    "            if score>=60:\n",
    "                print('Your grade is D')\n",
    "            else:\n",
    "                print('Your grade is F')"
   ]
  },
  {
   "cell_type": "markdown",
   "metadata": {},
   "source": [
    "## The if-elif-else Statement\n",
    "structure:\n",
    "```\n",
    "if condition_1:\n",
    "statement\n",
    "statement\n",
    "etc.\n",
    "elif condition_2:\n",
    "statement\n",
    "statement\n",
    "etc.\n",
    "Insert as many elif clauses as necessary . . \n",
    "else:\n",
    "statement\n",
    "statement\n",
    "etc.\n",
    "```"
   ]
  },
  {
   "cell_type": "code",
   "execution_count": 63,
   "metadata": {},
   "outputs": [
    {
     "name": "stdout",
     "output_type": "stream",
     "text": [
      "Score=78.0\n",
      "Your grade is C\n"
     ]
    }
   ],
   "source": [
    "score=float(input('What is your score?'))\n",
    "print('Score=',score,sep='')\n",
    "\n",
    "if score>=90:\n",
    "    print('Your grade is A')\n",
    "elif score>=80:\n",
    "    print('Your grade is B')\n",
    "elif score>=70:\n",
    "    print('Your grade is C')\n",
    "elif score>=60:\n",
    "    print('Your grade is D')\n",
    "else:\n",
    "    print('Your grade is F')"
   ]
  },
  {
   "cell_type": "markdown",
   "metadata": {},
   "source": [
    "# Logical Operators \n",
    "- `and`: The and operator connects two Boolean expressions into one compound expression. Both subexpressions must be true for the compound expression to be true.<br>\n",
    "```\n",
    "Expression                              Value of the Expression\n",
    ">-true and false                              false\n",
    ">-false and true                              false\n",
    ">-false and false                             false\n",
    ">-true and true                               true\n",
    "```\n",
    "If the expression on the left side of the and operator is false, the expression on the right side will not be checked. Because the compound expression will be false if only one of the subexpressions is false, it would waste CPU time to check the remaining expression. \n",
    "```\n",
    "x > y and a < b\n",
    "Is x greater than y AND is a less than b?\n",
    "```\n",
    "- `or`: The or operator connects two Boolean expressions into one compound expression.\n",
    "One or both subexpressions must be true for the compound expression to be true.\n",
    "It is only necessary for one of the subexpressions to be true, and it does not matter\n",
    "which.\n",
    "```\n",
    "Expression                                Value of the Expression\n",
    ">-true or false                                 true\n",
    ">-false or true                                 true\n",
    ">-false or false                                false\n",
    ">-true or true                                  true\n",
    "```\n",
    "If the expression on the left\n",
    "side of the or operator is true, the expression on the right side will not be checked. Because\n",
    "it is only necessary for one of the expressions to be true, it would waste CPU time to check\n",
    "the remaining expression.\n",
    "```\n",
    "x == y or x == z \n",
    "Is x equal to y OR is x equal to z?\n",
    "```\n",
    "- `not`:  The not operator is a unary operator, meaning it works with only one operand.\n",
    "The operand must be a Boolean expression. The not operator reverses the truth\n",
    "of its operand. If it is applied to an expression that is true, the operator returns\n",
    "false. If it is applied to an expression that is false, the operator returns true.\n",
    "```\n",
    "Expression                                 Value of the Expression\n",
    ">-not true                                      false\n",
    ">-not false                                     true\n",
    "```\n",
    "```\n",
    "not (x > y) \n",
    "Is the expression x > y NOT true?\n",
    "```"
   ]
  },
  {
   "cell_type": "code",
   "execution_count": 2,
   "metadata": {},
   "outputs": [
    {
     "name": "stdout",
     "output_type": "stream",
     "text": [
      "The temperature is in the danger zone.\n"
     ]
    }
   ],
   "source": [
    "temperature=15\n",
    "minutes=30\n",
    "if temperature < 20 and minutes > 12:\n",
    "    print('The temperature is in the danger zone.')"
   ]
  },
  {
   "cell_type": "code",
   "execution_count": 12,
   "metadata": {},
   "outputs": [],
   "source": [
    "temperature=50\n",
    "if temperature < 20 or temperature > 100:\n",
    "    print('The temperature is too extreme')"
   ]
  },
  {
   "cell_type": "code",
   "execution_count": 3,
   "metadata": {},
   "outputs": [
    {
     "name": "stdout",
     "output_type": "stream",
     "text": [
      "This is below the maximum temperature.\n"
     ]
    }
   ],
   "source": [
    "if not(temperature > 100):\n",
    "    print('This is below the maximum temperature.')"
   ]
  },
  {
   "cell_type": "code",
   "execution_count": 8,
   "metadata": {},
   "outputs": [
    {
     "name": "stdout",
     "output_type": "stream",
     "text": [
      "My anaual salary is $45,000.00. With 10 year (s) on the Job.\n",
      "You Qualify for the loan\n"
     ]
    }
   ],
   "source": [
    "##### 'And' In action: both requirement must be meet\n",
    "min_salary=30000\n",
    "min_yrs=2\n",
    "\n",
    "salary=float(input('what is your annual salary??'))\n",
    "duration=int(input('How many years have you been on the Job??'))\n",
    "print('My anaual salary is $',\n",
    "      format(salary,',.2f'),\n",
    "      '. ','With ',duration,' year (s) on the Job.',sep='')\n",
    "\n",
    "if salary>= min_salary and duration >= min_yrs:\n",
    "    print(\"You Qualify for the loan\")\n",
    "else: \n",
    "    print('You do not qualify for the Loan')"
   ]
  },
  {
   "cell_type": "code",
   "execution_count": 10,
   "metadata": {},
   "outputs": [
    {
     "name": "stdout",
     "output_type": "stream",
     "text": [
      "My anaual salary is $40,000.00. With 1 year (s) on the Job.\n",
      "You Qualify for the loan\n"
     ]
    }
   ],
   "source": [
    "##### 'OR' In action: one of the requirement must be meet\n",
    "min_salary=30000\n",
    "min_yrs=2\n",
    "\n",
    "salary=float(input('what is your annual salary??'))\n",
    "duration=int(input('How many years have you been on the Job??'))\n",
    "print('My anaual salary is $',\n",
    "      format(salary,',.2f'),\n",
    "      '. ','With ',duration,' year (s) on the Job.',sep='')\n",
    "\n",
    "if salary>= min_salary or duration >= min_yrs:\n",
    "    print(\"You Qualify for the loan\")\n",
    "else: \n",
    "    print('You do not qualify for the Loan')"
   ]
  },
  {
   "cell_type": "markdown",
   "metadata": {},
   "source": [
    "## Checking Numeric Ranges with Logical Operators\n",
    "- When determining whether a number is inside a range, it is best to use the and operator <br>\n",
    "```\n",
    "if x >= 20 and x <= 40:\n",
    "print('The value is in the acceptable range.')\n",
    "```\n",
    "The compound Boolean expression being tested by this statement will be true only when x\n",
    "is greater than or equal to 20 and less than or equal to 40. The value in x must be within\n",
    "the range of 20 through 40 for this compound expression to be true\n",
    "- When determining whether a number is outside a range, it is best to use the or operator<br>\n",
    "```\n",
    "if x < 20 or x > 40:\n",
    "print('The value is outside the acceptable range.')\n",
    "```\n",
    "The following statement determines whether x is outside the range of 20 through 40"
   ]
  },
  {
   "cell_type": "code",
   "execution_count": 23,
   "metadata": {},
   "outputs": [
    {
     "name": "stdout",
     "output_type": "stream",
     "text": [
      "Score=83.0\n",
      "Your grade is B\n"
     ]
    }
   ],
   "source": [
    "score=float(input('What is your score?'))\n",
    "print('Score=',score,sep='')\n",
    "\n",
    "if score>=90:\n",
    "    print('Your grade is A')\n",
    "elif score>=80 and score <=89.9:\n",
    "    print('Your grade is B')\n",
    "elif score>=70 and score <=79.9:\n",
    "    print('Your grade is C')\n",
    "elif score>=60 and score <=69.9:\n",
    "    print('Your grade is D')\n",
    "else:\n",
    "    print('Your grade is F')"
   ]
  },
  {
   "cell_type": "markdown",
   "metadata": {},
   "source": [
    "# Boolean Variables\n",
    "A Boolean variable can reference one of two values: True or False.\n",
    "Boolean variables are commonly used as flags, which indicate whether\n",
    "specific conditions exist"
   ]
  },
  {
   "cell_type": "code",
   "execution_count": 31,
   "metadata": {},
   "outputs": [
    {
     "name": "stdout",
     "output_type": "stream",
     "text": [
      "Your sales reference is:$20000.0\n",
      "You've not meet your sales quota\n"
     ]
    }
   ],
   "source": [
    "sales=float(input('What is your sales reference amount'))\n",
    "print('Your sales reference is:','$',sales,sep='')\n",
    "if sales >= 50000.0:\n",
    "    sales_quota_met= True\n",
    "else:\n",
    "    sales_quota_met=False\n",
    "\n",
    "if sales_quota_met:\n",
    "    print('You have meet your sales quota!')\n",
    "else:\n",
    "    print(\"You've not meet your sales quota\")"
   ]
  },
  {
   "cell_type": "code",
   "execution_count": 57,
   "metadata": {},
   "outputs": [
    {
     "name": "stdout",
     "output_type": "stream",
     "text": [
      "Preffered number is:45\n",
      "Positive\n",
      "Number is Odd\n"
     ]
    }
   ],
   "source": [
    "number=int(input('enter your prefered number'))\n",
    "print('Preffered number is:',number,sep='')\n",
    "\n",
    "if number >=1:\n",
    "    print('Positive')\n",
    "elif number <0:\n",
    "    print('Negative')\n",
    "else:\n",
    "    print('Zero')\n",
    "\n",
    "if number % 2==0:\n",
    "        print('Number is Even')\n",
    "else:\n",
    "        print('Number is Odd')"
   ]
  },
  {
   "cell_type": "code",
   "execution_count": 77,
   "metadata": {},
   "outputs": [
    {
     "name": "stdout",
     "output_type": "stream",
     "text": [
      "Weight=70.54kg\n",
      "Height=167.0cm\n",
      "Your Body Mass Index=25.29\n",
      "You're Overweight\n"
     ]
    }
   ],
   "source": [
    "#BMI Calculatoor \n",
    "\n",
    "wg=float(input('whats your weight in kg:'))\n",
    "ht=float(input('whats is your height in CM'))\n",
    "print('Weight=',wg,'kg',sep='')\n",
    "print('Height=',ht,'cm',sep='')\n",
    "BMI=wg/(ht/100)**2\n",
    "print('Your Body Mass Index=',format(BMI,'.2f'),sep='')\n",
    "\n",
    "if BMI < 18.5:\n",
    "    print('You are Underweight!')\n",
    "elif BMI >=18.5 and BMI <=25.0:\n",
    "    print('Your Weight is optimal!')\n",
    "else:\n",
    "    print(\"You're Overweight\")\n",
    "\n"
   ]
  }
 ],
 "metadata": {
  "kernelspec": {
   "display_name": "Python 3",
   "language": "python",
   "name": "python3"
  },
  "language_info": {
   "codemirror_mode": {
    "name": "ipython",
    "version": 3
   },
   "file_extension": ".py",
   "mimetype": "text/x-python",
   "name": "python",
   "nbconvert_exporter": "python",
   "pygments_lexer": "ipython3",
   "version": "3.12.4"
  }
 },
 "nbformat": 4,
 "nbformat_minor": 2
}

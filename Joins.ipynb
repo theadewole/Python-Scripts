{
 "cells": [
  {
   "cell_type": "markdown",
   "metadata": {},
   "source": [
    "## Inner Join\n",
    "Returns only the rows where there is a match in both DataFrames."
   ]
  },
  {
   "cell_type": "code",
   "execution_count": 9,
   "metadata": {},
   "outputs": [
    {
     "name": "stdout",
     "output_type": "stream",
     "text": [
      "   ID     Name\n",
      "0   1    Alice\n",
      "1   2      Bob\n",
      "2   3  Charlie\n",
      "--------------------------\n",
      "   ID  Age\n",
      "0   2   25\n",
      "1   3   30\n",
      "2   4   40\n",
      "------------------------\n",
      "   ID     Name  Age\n",
      "0   2      Bob   25\n",
      "1   3  Charlie   30\n"
     ]
    }
   ],
   "source": [
    "import pandas as pd\n",
    "\n",
    "df1 = pd.DataFrame({'ID': [1, 2, 3], 'Name': ['Alice', 'Bob', 'Charlie']})\n",
    "df2 = pd.DataFrame({'ID': [2, 3, 4], 'Age': [25, 30, 40]})\n",
    "\n",
    "result = pd.merge(df1, df2, on='ID', how='inner')\n",
    "print(f\"\"\"{df1}\n",
    "--------------------------\n",
    "{df2}\n",
    "------------------------\n",
    "{result}\"\"\")"
   ]
  },
  {
   "cell_type": "markdown",
   "metadata": {},
   "source": [
    "## Left Join (or Left Outer Join)\n",
    "Returns all rows from the left DataFrame and the matched rows from the right DataFrame. Unmatched rows will have NaN for columns from the right DataFrame."
   ]
  },
  {
   "cell_type": "code",
   "execution_count": 11,
   "metadata": {},
   "outputs": [
    {
     "name": "stdout",
     "output_type": "stream",
     "text": [
      "   ID     Name\n",
      "0   1    Alice\n",
      "1   2      Bob\n",
      "2   3  Charlie\n",
      "---------------------------------------\n",
      "   ID  Age\n",
      "0   2   25\n",
      "1   3   30\n",
      "2   4   40                                  \n",
      "-----------------------------------------\n",
      "   ID     Name   Age\n",
      "0   1    Alice   NaN\n",
      "1   2      Bob  25.0\n",
      "2   3  Charlie  30.0\n"
     ]
    }
   ],
   "source": [
    "result = pd.merge(df1, df2, on='ID', how='left')\n",
    "print(f\"\"\"{df1}\n",
    "---------------------------------------\n",
    "{df2}                                  \n",
    "-----------------------------------------\n",
    "{result}\"\"\")\n"
   ]
  },
  {
   "cell_type": "markdown",
   "metadata": {},
   "source": [
    "## Right Join (or Right Outer Join)\n",
    "Returns all rows from the right DataFrame and the matched rows from the left DataFrame. Unmatched rows will have NaN for columns from the left DataFrame."
   ]
  },
  {
   "cell_type": "code",
   "execution_count": 12,
   "metadata": {},
   "outputs": [
    {
     "name": "stdout",
     "output_type": "stream",
     "text": [
      "   ID     Name\n",
      "0   1    Alice\n",
      "1   2      Bob\n",
      "2   3  Charlie\n",
      "---------------------------------------\n",
      "   ID  Age\n",
      "0   2   25\n",
      "1   3   30\n",
      "2   4   40                                  \n",
      "-----------------------------------------\n",
      "   ID     Name  Age\n",
      "0   2      Bob   25\n",
      "1   3  Charlie   30\n",
      "2   4      NaN   40\n"
     ]
    }
   ],
   "source": [
    "result = pd.merge(df1, df2, on='ID', how='right')\n",
    "print(f\"\"\"{df1}\n",
    "---------------------------------------\n",
    "{df2}                                  \n",
    "-----------------------------------------\n",
    "{result}\"\"\")\n",
    "\n"
   ]
  },
  {
   "cell_type": "markdown",
   "metadata": {},
   "source": [
    "## Outer Join (Full Outer Join)\n",
    "Returns all rows when there is a match in either the left or right DataFrame. Unmatched rows will have NaN in the missing places."
   ]
  },
  {
   "cell_type": "code",
   "execution_count": 13,
   "metadata": {},
   "outputs": [
    {
     "name": "stdout",
     "output_type": "stream",
     "text": [
      "   ID     Name\n",
      "0   1    Alice\n",
      "1   2      Bob\n",
      "2   3  Charlie\n",
      "---------------------------------------\n",
      "   ID  Age\n",
      "0   2   25\n",
      "1   3   30\n",
      "2   4   40                                  \n",
      "-----------------------------------------\n",
      "   ID     Name   Age\n",
      "0   1    Alice   NaN\n",
      "1   2      Bob  25.0\n",
      "2   3  Charlie  30.0\n",
      "3   4      NaN  40.0\n"
     ]
    }
   ],
   "source": [
    "result = pd.merge(df1, df2, on='ID', how='outer')\n",
    "print(f\"\"\"{df1}\n",
    "---------------------------------------\n",
    "{df2}                                  \n",
    "-----------------------------------------\n",
    "{result}\"\"\")\n",
    "\n"
   ]
  },
  {
   "cell_type": "markdown",
   "metadata": {},
   "source": [
    "## Cross Join (Cartesian Product)\n",
    "Returns the Cartesian product of both DataFrames, i.e., every combination of rows from the first DataFrame with every row from the second DataFrame."
   ]
  },
  {
   "cell_type": "code",
   "execution_count": 14,
   "metadata": {},
   "outputs": [
    {
     "name": "stdout",
     "output_type": "stream",
     "text": [
      "   ID     Name\n",
      "0   1    Alice\n",
      "1   2      Bob\n",
      "2   3  Charlie\n",
      "---------------------------------------\n",
      "   ID  Age\n",
      "0   2   25\n",
      "1   3   30\n",
      "2   4   40                                  \n",
      "-----------------------------------------\n",
      "   ID_x     Name  ID_y  Age\n",
      "0     1    Alice     2   25\n",
      "1     1    Alice     3   30\n",
      "2     1    Alice     4   40\n",
      "3     2      Bob     2   25\n",
      "4     2      Bob     3   30\n",
      "5     2      Bob     4   40\n",
      "6     3  Charlie     2   25\n",
      "7     3  Charlie     3   30\n",
      "8     3  Charlie     4   40\n"
     ]
    }
   ],
   "source": [
    "result = pd.merge(df1, df2, how='cross')\n",
    "print(f\"\"\"{df1}\n",
    "---------------------------------------\n",
    "{df2}                                  \n",
    "-----------------------------------------\n",
    "{result}\"\"\")\n",
    "\n"
   ]
  },
  {
   "cell_type": "markdown",
   "metadata": {},
   "source": [
    "## Self Join\n",
    "It's a join of a DataFrame with itself. This is not a separate type of join but just applying any of the above joins where the same DataFrame is used on both sides."
   ]
  },
  {
   "cell_type": "code",
   "execution_count": 15,
   "metadata": {},
   "outputs": [
    {
     "name": "stdout",
     "output_type": "stream",
     "text": [
      "   ID_child  ParentID_child Name_child  ID_parent  ParentID_parent Name_parent\n",
      "0         1             NaN      Alice        NaN              NaN         NaN\n",
      "1         2             1.0        Bob        1.0              NaN       Alice\n",
      "2         3             2.0    Charlie        2.0              1.0         Bob\n"
     ]
    }
   ],
   "source": [
    "df_self = pd.DataFrame({'ID': [1, 2, 3], \n",
    "    'ParentID': [None, 1, 2], \n",
    "    'Name': ['Alice', 'Bob', 'Charlie']})\n",
    "result = pd.merge(df_self, df_self, \n",
    "    left_on='ParentID', \n",
    "    right_on='ID',\n",
    "    how='left', \n",
    "    suffixes=('_child', '_parent'))\n",
    "print(result)\n"
   ]
  },
  {
   "cell_type": "markdown",
   "metadata": {},
   "source": [
    "## Semi-Join\n",
    "- A semi-join returns all the rows from the left DataFrame where there is a match in the right DataFrame, but only columns from the left DataFrame are retained.\n",
    "- Pandas doesn’t directly support a semi-join, but you can mimic it by using merge and then selecting only the columns from the left DataFrame."
   ]
  },
  {
   "cell_type": "code",
   "execution_count": 16,
   "metadata": {},
   "outputs": [
    {
     "name": "stdout",
     "output_type": "stream",
     "text": [
      "   ID     Name\n",
      "0   1    Alice\n",
      "1   2      Bob\n",
      "2   3  Charlie\n",
      "---------------------------------------\n",
      "   ID  Age\n",
      "0   2   25\n",
      "1   3   30\n",
      "2   4   40                                  \n",
      "-----------------------------------------\n",
      "   ID     Name\n",
      "1   2      Bob\n",
      "2   3  Charlie\n"
     ]
    }
   ],
   "source": [
    "result = df1[df1['ID'].isin(df2['ID'])]\n",
    "print(f\"\"\"{df1}\n",
    "---------------------------------------\n",
    "{df2}                                  \n",
    "-----------------------------------------\n",
    "{result}\"\"\")\n"
   ]
  },
  {
   "cell_type": "markdown",
   "metadata": {},
   "source": [
    "## Anti-Join\n",
    "- An anti-join returns rows from the left DataFrame where there is no match in the right DataFrame.\n",
    "- You can simulate this in Pandas by using a left join and then filtering rows where the right DataFrame columns are NaN."
   ]
  },
  {
   "cell_type": "code",
   "execution_count": 19,
   "metadata": {},
   "outputs": [
    {
     "name": "stdout",
     "output_type": "stream",
     "text": [
      "   ID     Name\n",
      "0   1    Alice\n",
      "1   2      Bob\n",
      "2   3  Charlie\n",
      "------------------------------------------\n",
      "   ID  Age\n",
      "0   2   25\n",
      "1   3   30\n",
      "2   4   40\n",
      "-------------------------------------\n",
      "   ID     Name   Age     _merge\n",
      "0   1    Alice   NaN  left_only\n",
      "1   2      Bob  25.0       both\n",
      "2   3  Charlie  30.0       both\n"
     ]
    }
   ],
   "source": [
    "result = pd.merge(df1, df2, on='ID', how='left', indicator=True)\n",
    "anti_join_result = result[result['_merge'] == 'left_only'].drop(columns=['_merge', 'Age'])\n",
    "print(f\"\"\"{df1}\n",
    "------------------------------------------\n",
    "{df2}\n",
    "-------------------------------------\n",
    "{result}\"\"\")\n"
   ]
  },
  {
   "cell_type": "markdown",
   "metadata": {},
   "source": [
    "## Index Join\n",
    "In Pandas, you can perform joins on DataFrame indices rather than specific columns. This can be useful when your DataFrames are indexed by meaningful identifiers (like a unique customer ID or timestamp)."
   ]
  },
  {
   "cell_type": "code",
   "execution_count": 20,
   "metadata": {},
   "outputs": [
    {
     "name": "stdout",
     "output_type": "stream",
     "text": [
      "   ID     Name\n",
      "0   1    Alice\n",
      "1   2      Bob\n",
      "2   3  Charlie\n",
      "---------------------------------------\n",
      "   ID  Age\n",
      "0   2   25\n",
      "1   3   30\n",
      "2   4   40                                  \n",
      "-----------------------------------------\n",
      "   ID_x     Name  ID_y  Age\n",
      "0     1    Alice     2   25\n",
      "1     2      Bob     3   30\n",
      "2     3  Charlie     4   40\n"
     ]
    }
   ],
   "source": [
    "result = pd.merge(df1, df2, left_index=True, right_index=True, how='inner')\n",
    "print(f\"\"\"{df1}\n",
    "---------------------------------------\n",
    "{df2}                                  \n",
    "-----------------------------------------\n",
    "{result}\"\"\")\n"
   ]
  }
 ],
 "metadata": {
  "kernelspec": {
   "display_name": "Python 3",
   "language": "python",
   "name": "python3"
  },
  "language_info": {
   "codemirror_mode": {
    "name": "ipython",
    "version": 3
   },
   "file_extension": ".py",
   "mimetype": "text/x-python",
   "name": "python",
   "nbconvert_exporter": "python",
   "pygments_lexer": "ipython3",
   "version": "3.12.6"
  }
 },
 "nbformat": 4,
 "nbformat_minor": 2
}
